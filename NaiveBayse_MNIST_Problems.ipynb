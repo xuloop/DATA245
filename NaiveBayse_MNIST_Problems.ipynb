{
 "cells": [
  {
   "cell_type": "markdown",
   "metadata": {},
   "source": [
    "### Naive Bayes Classifier for Digit Recognition (35%)"
   ]
  },
  {
   "cell_type": "code",
   "execution_count": 9,
   "metadata": {},
   "outputs": [],
   "source": [
    "# This tells matplotlib not to try opening a new window for each plot.\n",
    "%matplotlib inline\n",
    "\n",
    "# Import a bunch of libraries.\n",
    "import time\n",
    "import numpy as np\n",
    "import matplotlib.pyplot as plt\n",
    "from matplotlib.ticker import MultipleLocator\n",
    "from sklearn.pipeline import Pipeline\n",
    "#from sklearn.datasets import fetch_mldata\n",
    "from sklearn.neighbors import KNeighborsClassifier\n",
    "from sklearn.metrics import confusion_matrix\n",
    "from sklearn.linear_model import LinearRegression\n",
    "from sklearn.naive_bayes import BernoulliNB\n",
    "from sklearn.naive_bayes import MultinomialNB\n",
    "from sklearn.naive_bayes import GaussianNB\n",
    "from sklearn.model_selection import RandomizedSearchCV, GridSearchCV, train_test_split\n",
    "from sklearn.metrics import classification_report, accuracy_score\n",
    "\n",
    "# Set the randomizer seed so results are the same each time.\n",
    "np.random.seed(0)"
   ]
  },
  {
   "cell_type": "code",
   "execution_count": 10,
   "metadata": {},
   "outputs": [
    {
     "name": "stdout",
     "output_type": "stream",
     "text": [
      "data shape:  (1797, 64)\n",
      "label shape: (1797,)\n"
     ]
    }
   ],
   "source": [
    "# Load the digit data either from mldata.org, or once downloaded to data_home, from disk. The data is about 53MB so this cell\n",
    "# should take a while the first time your run it.\n",
    "from sklearn.datasets import load_digits\n",
    "mnist = load_digits()\n",
    "X, Y = mnist.data, mnist.target\n",
    "\n",
    "# Rescale grayscale values to [0,1].\n",
    "X = X / 255.0\n",
    "\n",
    "# Shuffle the input: create a random permutation of the integers between 0 and the number of data points and apply this\n",
    "# permutation to X and Y.\n",
    "# NOTE: Each time you run this cell, you'll re-shuffle the data, resulting in a different ordering.\n",
    "shuffle = np.random.permutation(np.arange(X.shape[0]))\n",
    "X, Y = X[shuffle], Y[shuffle]\n",
    "\n",
    "print('data shape: ', X.shape)\n",
    "print('label shape:', Y.shape)\n",
    "\n",
    "\n",
    "# Set some variables to hold test, dev, and training data.\n",
    "test_data, test_labels = X[1540:], Y[1540:]\n",
    "dev_data, dev_labels = X[1400:1540], Y[1400:1540]\n",
    "train_data, train_labels = X[:1400], Y[:1400]\n",
    "mini_train_data, mini_train_labels = X[:200], Y[:200]"
   ]
  },
  {
   "cell_type": "code",
   "execution_count": 11,
   "metadata": {},
   "outputs": [
    {
     "name": "stdout",
     "output_type": "stream",
     "text": [
      "The Feature set: [[0.         0.         0.04313725 ... 0.05098039 0.0627451  0.03137255]\n",
      " [0.         0.00392157 0.05882353 ... 0.00392157 0.         0.        ]\n",
      " [0.         0.00784314 0.05098039 ... 0.0627451  0.0627451  0.01176471]\n",
      " ...\n",
      " [0.         0.         0.01960784 ... 0.         0.         0.        ]\n",
      " [0.         0.         0.01568627 ... 0.         0.         0.        ]\n",
      " [0.         0.         0.02352941 ... 0.04313725 0.         0.        ]]\n",
      "The Label set: [2 8 2 ... 7 7 8]\n"
     ]
    }
   ],
   "source": [
    "print('The Feature set:', X)\n",
    "print('The Label set:', Y)"
   ]
  },
  {
   "cell_type": "markdown",
   "metadata": {},
   "source": [
    "### A. Create a 10x10 grid to visualize 10 examples of each digit."
   ]
  },
  {
   "cell_type": "code",
   "execution_count": 12,
   "metadata": {},
   "outputs": [
    {
     "data": {
      "image/png": "[encoded data removed]",
      "text/plain": [
       "<Figure size 1000x1000 with 100 Axes>"
      ]
     },
     "metadata": {},
     "output_type": "display_data"
    }
   ],
   "source": [
    "digits = np.unique(Y)\n",
    "M = 10\n",
    "dim = int(np.sqrt(X.shape[1]))\n",
    "\n",
    "fig, axs = plt.subplots(len(digits), M, figsize=(10,10))\n",
    "\n",
    "for i,d in enumerate(digits):\n",
    "    for j in range(M):\n",
    "        axs[i,j].imshow(X[Y==d][j].reshape((dim,dim)))\n",
    "        axs[i,j].axis('off')"
   ]
  },
  {
   "cell_type": "markdown",
   "metadata": {},
   "source": [
    "### B.  Fit a Naive Bayes classifier and report accuracy on the dev data. Remember that Naive Bayes estimates P(feature|label). While sklearn can handle real-valued features, let's start by mapping the pixel values to either 0 or 1. You can do this as a preprocessing step, or with the binarize argument. With binary-valued features, you can use BernoulliNB. Next try mapping the pixel values to 0, 1, or 2, representing white, grey, or black. This mapping requires MultinomialNB. Does the multi-class version improve the results? Why or why not?\n",
    "### Note, the answers may vary depending on what thresholds you set."
   ]
  },
  {
   "cell_type": "markdown",
   "metadata": {},
   "source": [
    "### BernoulliNB"
   ]
  },
  {
   "cell_type": "code",
   "execution_count": 13,
   "metadata": {},
   "outputs": [
    {
     "name": "stdout",
     "output_type": "stream",
     "text": [
      "Best accuracy: 0.9071428571428571\n",
      "Best thresholds: 0.02\n"
     ]
    }
   ],
   "source": [
    "# Initialize variables \n",
    "best_accuracy = 0\n",
    "best_thresholds = None\n",
    "\n",
    "# Iterate over possible threshold pairs between 0 and 1\n",
    "for thresh in np.arange(0.01, 1, 0.01):\n",
    "\n",
    "        # Change feature values to 0, 1 \n",
    "        bins = [thresh]\n",
    "        X_binary = np.digitize(train_data, bins=bins)\n",
    "        dev_data_binary = np.digitize(dev_data, bins=bins)\n",
    "        \n",
    "        # Fit the BernoulliNB on the bin \n",
    "        bernoulli_nb = BernoulliNB()\n",
    "        bernoulli_nb.fit(X_binary, train_labels)\n",
    "        \n",
    "        # Accuracy on dev data\n",
    "        dev_pred_test = bernoulli_nb.predict(dev_data_binary)\n",
    "        test_accuracy = accuracy_score(dev_labels, dev_pred_test)\n",
    "        \n",
    "        # Find best accuracy and thresholds\n",
    "        if test_accuracy > best_accuracy:\n",
    "            best_accuracy = test_accuracy\n",
    "            best_thresholds = thresh\n",
    "\n",
    "print(f\"Best accuracy: {best_accuracy}\")\n",
    "print(f\"Best thresholds: {best_thresholds}\")"
   ]
  },
  {
   "cell_type": "markdown",
   "metadata": {},
   "source": [
    "### MultinomialNB"
   ]
  },
  {
   "cell_type": "code",
   "execution_count": 14,
   "metadata": {},
   "outputs": [
    {
     "name": "stdout",
     "output_type": "stream",
     "text": [
      "Best accuracy: 0.9071428571428571\n",
      "Best thresholds: (0.01, 0.039999999999999994)\n"
     ]
    }
   ],
   "source": [
    "# Initialize variables\n",
    "best_accuracy = 0\n",
    "best_thresholds = None\n",
    "\n",
    "# Iterate over two possible threshold pairs between 0 and 1\n",
    "for thresh1 in np.arange(0.01, 1, 0.01):    \n",
    "    for thresh2 in np.arange(thresh1 + 0.01, 1.0, 0.01): \n",
    "\n",
    "        # Change feature values to 0, 1, 2\n",
    "        bins = [thresh1, thresh2]\n",
    "        X_multi_test = np.digitize(train_data, bins=bins)\n",
    "        dev_data_multi_test = np.digitize(dev_data, bins=bins)\n",
    "        \n",
    "        # Fit the MultinomialNB\n",
    "        multinomial_nb_test = MultinomialNB()\n",
    "        multinomial_nb_test.fit(X_multi_test, train_labels)\n",
    "        \n",
    "        # Accuracy on dev data\n",
    "        dev_pred_test = multinomial_nb_test.predict(dev_data_multi_test)\n",
    "        test_accuracy = accuracy_score(dev_labels, dev_pred_test)\n",
    "        \n",
    "        # Find best accuracy and thresholds\n",
    "        if test_accuracy > best_accuracy:\n",
    "            best_accuracy = test_accuracy\n",
    "            best_thresholds = (thresh1, thresh2)\n",
    "\n",
    "print(f\"Best accuracy: {best_accuracy}\")\n",
    "print(f\"Best thresholds: {best_thresholds}\")"
   ]
  },
  {
   "cell_type": "code",
   "execution_count": 15,
   "metadata": {},
   "outputs": [
    {
     "name": "stdout",
     "output_type": "stream",
     "text": [
      "(140, 64)\n"
     ]
    }
   ],
   "source": [
    "print(dev_data.shape)"
   ]
  },
  {
   "cell_type": "markdown",
   "metadata": {},
   "source": [
    "The above loops iterate through threshold ranges to test for the best accuracy amongst the naive bayes models. Bernoulli naive bayes tests for a single threshold for the binary tranformation of the training dataset and the validation/dev dataset. Multinomial naive bayes tests for two threshold for the tranformation into three bins of 0, 1, 2  of the training dataset and the validation/dev dataset. By testing for thresholds both of the models have a high accuracy of 0.9071428571428571, indicating high performance, but not an improvement. This might be due to the small validation/dev data size of only 140 indexes, therefore there is not enough data to demonstarte a difference. However, generally speaking multinomial naive bayes should outpreform bernoulli naive bayes due to the information loss with just seperating pixel intensity into two levels rather three or potenially more. Because the dataset deals with image data, potentially models such as SVM and neural networks might be a better fit."
   ]
  },
  {
   "cell_type": "markdown",
   "metadata": {},
   "source": [
    "### C. Try training a model using GuassianNB, which is intended for real-valued features, and evaluate on the dev data. You'll notice that it doesn't work so well. Could you explain why?"
   ]
  },
  {
   "cell_type": "code",
   "execution_count": 17,
   "metadata": {},
   "outputs": [
    {
     "name": "stdout",
     "output_type": "stream",
     "text": [
      "GaussianNB Accuracy: 0.8429\n"
     ]
    }
   ],
   "source": [
    "# Gaussian Naive Bayes model\n",
    "gaussian_nb = GaussianNB()\n",
    "\n",
    "# Train the model on the train set\n",
    "gaussian_nb.fit(train_data, train_labels)\n",
    "\n",
    "# Evaluate on the dev data\n",
    "dev_pred = gaussian_nb.predict(dev_data)\n",
    "dev_accuracy = accuracy_score(dev_labels, dev_pred)\n",
    "print(f\"GaussianNB Accuracy: {dev_accuracy:.4f}\")"
   ]
  },
  {
   "cell_type": "markdown",
   "metadata": {},
   "source": [
    "The GaussianNB model has an accuracy of 0.8429m less than the other naive bayes models. GaussianNB is intended for real-valued features, making it not quite a good fit for image classifcation data. Gaussian naive bayes assumes a gaussian distribution amongst its features, as is intended for real value features, but that is not neccessarily the case for image data relating to pixel intensity values. Gaussian naive bayes also assumes feature independence between its features, but image data features is potentially very correlated between each other."
   ]
  }
 ],
 "metadata": {
  "kernelspec": {
   "display_name": "base",
   "language": "python",
   "name": "python3"
  },
  "language_info": {
   "codemirror_mode": {
    "name": "ipython",
    "version": 3
   },
   "file_extension": ".py",
   "mimetype": "text/x-python",
   "name": "python",
   "nbconvert_exporter": "python",
   "pygments_lexer": "ipython3",
   "version": "3.11.5"
  }
 },
 "nbformat": 4,
 "nbformat_minor": 2
}
