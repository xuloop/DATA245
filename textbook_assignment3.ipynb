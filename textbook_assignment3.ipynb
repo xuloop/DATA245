{
 "cells": [
  {
   "cell_type": "code",
   "execution_count": 27,
   "metadata": {},
   "outputs": [
    {
     "name": "stdout",
     "output_type": "stream",
     "text": [
      "        Country  Life Expectancy  Top-10 Income  Infant Mortality  \\\n",
      "0   Afghanistan            59.61          23.21              74.3   \n",
      "1         Haiti            45.00          47.67              73.1   \n",
      "2       Nigeria            51.30          38.23              82.6   \n",
      "3         Egypt            70.48          26.58              19.6   \n",
      "4     Argentina            75.77          32.30              13.3   \n",
      "5         China            74.87          29.98              13.7   \n",
      "6        Brazil            73.12          42.93              14.5   \n",
      "7        Israel            81.30          28.80               3.6   \n",
      "8           USA            78.51          29.85               6.3   \n",
      "9       Ireland            80.15          27.23               3.5   \n",
      "10           UK            80.09          28.49               4.4   \n",
      "11      Germany            80.24          22.07               3.5   \n",
      "12       Canada            80.99          24.79               4.9   \n",
      "13    Australia            82.09          25.40               4.2   \n",
      "14       Sweden            81.43          22.18               2.4   \n",
      "15  New Zealand            80.67          27.81               4.9   \n",
      "\n",
      "    Military Spending  School Years     CPI  \n",
      "0                4.44           0.4  1.5171  \n",
      "1                0.09           3.4  1.7999  \n",
      "2                1.07           4.1  2.4493  \n",
      "3                1.86           5.3  2.8622  \n",
      "4                0.76          10.1  2.9961  \n",
      "5                1.95           6.4  3.6356  \n",
      "6                1.43           7.2  3.7741  \n",
      "7                6.77          12.5  5.8069  \n",
      "8                4.72          13.7  7.1357  \n",
      "9                0.60          11.5  7.5360  \n",
      "10               2.59          13.0  7.7751  \n",
      "11               1.31          12.0  8.0461  \n",
      "12               1.42          14.2  8.6725  \n",
      "13               1.86          11.5  8.8442  \n",
      "14               1.27          12.8  9.2985  \n",
      "15               1.13          12.3  9.4627  \n"
     ]
    }
   ],
   "source": [
    "import pandas as pd\n",
    "\n",
    "# Define the data\n",
    "data = {\n",
    "    'Country': ['Afghanistan', 'Haiti', 'Nigeria', 'Egypt', 'Argentina', 'China', 'Brazil', 'Israel', 'USA', 'Ireland', \n",
    "                'UK', 'Germany', 'Canada', 'Australia', 'Sweden', 'New Zealand'],\n",
    "    'Life Expectancy': [59.61, 45.00, 51.30, 70.48, 75.77, 74.87, 73.12, 81.30, 78.51, 80.15, 80.09, 80.24, 80.99, 82.09, 81.43, 80.67],\n",
    "    'Top-10 Income': [23.21, 47.67, 38.23, 26.58, 32.30, 29.98, 42.93, 28.80, 29.85, 27.23, 28.49, 22.07, 24.79, 25.40, 22.18, 27.81],\n",
    "    'Infant Mortality': [74.30, 73.10, 82.60, 19.60, 13.30, 13.70, 14.50, 3.60, 6.30, 3.50, 4.40, 3.50, 4.90, 4.20, 2.40, 4.90],\n",
    "    'Military Spending': [4.44, 0.09, 1.07, 1.86, 0.76, 1.95, 1.43, 6.77, 4.72, 0.60, 2.59, 1.31, 1.42, 1.86, 1.27, 1.13],\n",
    "    'School Years': [0.40, 3.40, 4.10, 5.30, 10.10, 6.40, 7.20, 12.50, 13.70, 11.50, 13.00, 12.00, 14.20, 11.50, 12.80, 12.30],\n",
    "    'CPI': [1.5171, 1.7999, 2.4493, 2.8622, 2.9961, 3.6356, 3.7741, 5.8069, 7.1357, 7.5360, 7.7751, 8.0461, 8.6725, 8.8442, 9.2985, 9.4627]\n",
    "}\n",
    "\n",
    "# Create the DataFrame\n",
    "df = pd.DataFrame(data) \n",
    "\n",
    "# Display the DataFrame\n",
    "print(df)"
   ]
  },
  {
   "cell_type": "code",
   "execution_count": 28,
   "metadata": {},
   "outputs": [
    {
     "name": "stdout",
     "output_type": "stream",
     "text": [
      "        Country  Life Expectancy  Top-10 Income  Infant Mortality  \\\n",
      "0   Afghanistan         0.393907       0.044531          0.896509   \n",
      "1         Haiti         0.000000       1.000000          0.881546   \n",
      "2       Nigeria         0.169857       0.631250          1.000000   \n",
      "3         Egypt         0.686978       0.176172          0.214464   \n",
      "4     Argentina         0.829604       0.399609          0.135910   \n",
      "5         China         0.805338       0.308984          0.140898   \n",
      "6        Brazil         0.758156       0.814844          0.150873   \n",
      "7        Israel         0.978700       0.262891          0.014963   \n",
      "8           USA         0.903478       0.303906          0.048628   \n",
      "9       Ireland         0.947695       0.201563          0.013716   \n",
      "10           UK         0.946077       0.250781          0.024938   \n",
      "11      Germany         0.950121       0.000000          0.013716   \n",
      "12       Canada         0.970342       0.106250          0.031172   \n",
      "13    Australia         1.000000       0.130078          0.022444   \n",
      "14       Sweden         0.982205       0.004297          0.000000   \n",
      "15  New Zealand         0.961715       0.224219          0.031172   \n",
      "\n",
      "    Military Spending  School Years     CPI  \n",
      "0            0.651198      0.000000  1.5171  \n",
      "1            0.000000      0.217391  1.7999  \n",
      "2            0.146707      0.268116  2.4493  \n",
      "3            0.264970      0.355072  2.8622  \n",
      "4            0.100299      0.702899  2.9961  \n",
      "5            0.278443      0.434783  3.6356  \n",
      "6            0.200599      0.492754  3.7741  \n",
      "7            1.000000      0.876812  5.8069  \n",
      "8            0.693114      0.963768  7.1357  \n",
      "9            0.076347      0.804348  7.5360  \n",
      "10           0.374251      0.913043  7.7751  \n",
      "11           0.182635      0.840580  8.0461  \n",
      "12           0.199102      1.000000  8.6725  \n",
      "13           0.264970      0.804348  8.8442  \n",
      "14           0.176647      0.898551  9.2985  \n",
      "15           0.155689      0.862319  9.4627  \n"
     ]
    }
   ],
   "source": [
    "columns_to_normalize = ['Life Expectancy', 'Top-10 Income', 'Infant Mortality', 'Military Spending', 'School Years']\n",
    "\n",
    "df_normalized = df.copy() \n",
    "df_normalized[columns_to_normalize] = (df[columns_to_normalize] - df[columns_to_normalize].min()) / (df[columns_to_normalize].max() - df[columns_to_normalize].min())\n",
    "\n",
    "print(df_normalized)"
   ]
  },
  {
   "cell_type": "code",
   "execution_count": 29,
   "metadata": {},
   "outputs": [
    {
     "name": "stdout",
     "output_type": "stream",
     "text": [
      "{'Life Expectancy': [67.62], 'Top-10 Income': [31.68], 'Infant Mortality': [10.0], 'Military Spending': [3.87], 'School Years': [12.9]}\n"
     ]
    }
   ],
   "source": [
    "russia_features = {\n",
    "    'Life Expectancy': [67.62],\n",
    "    'Top-10 Income': [31.68],\n",
    "    'Infant Mortality': [10.00],\n",
    "    'Military Spending': [3.87],\n",
    "    'School Years': [12.90]\n",
    "}\n",
    "\n",
    "print(russia_features)"
   ]
  },
  {
   "cell_type": "code",
   "execution_count": 30,
   "metadata": {},
   "outputs": [
    {
     "name": "stdout",
     "output_type": "stream",
     "text": [
      "        Country  Life Expectancy  Top-10 Income  Infant Mortality  \\\n",
      "4     Argentina            75.77          32.30              13.3   \n",
      "5         China            74.87          29.98              13.7   \n",
      "8           USA            78.51          29.85               6.3   \n",
      "3         Egypt            70.48          26.58              19.6   \n",
      "10           UK            80.09          28.49               4.4   \n",
      "6        Brazil            73.12          42.93              14.5   \n",
      "15  New Zealand            80.67          27.81               4.9   \n",
      "9       Ireland            80.15          27.23               3.5   \n",
      "7        Israel            81.30          28.80               3.6   \n",
      "12       Canada            80.99          24.79               4.9   \n",
      "13    Australia            82.09          25.40               4.2   \n",
      "11      Germany            80.24          22.07               3.5   \n",
      "14       Sweden            81.43          22.18               2.4   \n",
      "0   Afghanistan            59.61          23.21              74.3   \n",
      "1         Haiti            45.00          47.67              73.1   \n",
      "2       Nigeria            51.30          38.23              82.6   \n",
      "\n",
      "    Military Spending  School Years     CPI   Distance  \n",
      "4                0.76          10.1  2.9961   9.757510  \n",
      "5                1.95           6.4  3.6356  10.727483  \n",
      "8                4.72          13.7  7.1357  11.704422  \n",
      "3                1.86           5.3  2.8622  13.716767  \n",
      "10               2.59          13.0  7.7751  14.095581  \n",
      "6                1.43           7.2  3.7741  14.680126  \n",
      "15               1.13          12.3  9.4627  14.803952  \n",
      "9                0.60          11.5  7.5360  15.221902  \n",
      "7                6.77          12.5  5.8069  15.651415  \n",
      "12               1.42          14.2  8.6725  16.122391  \n",
      "13               1.86          11.5  8.8442  16.984093  \n",
      "11               1.31          12.0  8.0461  17.355982  \n",
      "14               1.27          12.8  9.2985  18.587525  \n",
      "0                4.44           0.4  1.5171  66.535448  \n",
      "1                0.09           3.4  1.7999  69.667014  \n",
      "2                1.07           4.1  2.4493  75.268087  \n"
     ]
    }
   ],
   "source": [
    "import numpy as np\n",
    "\n",
    "df['Distance'] = np.sqrt(\n",
    "    (df['Life Expectancy'] - russia_features['Life Expectancy'])**2 +\n",
    "    (df['Top-10 Income'] - russia_features['Top-10 Income'])**2 +\n",
    "    (df['Infant Mortality'] - russia_features['Infant Mortality'])**2 +\n",
    "    (df['Military Spending'] - russia_features['Military Spending'])**2 +\n",
    "    (df['School Years'] - russia_features['School Years'])**2\n",
    ")\n",
    "\n",
    "# Sort by distance to find the 3 nearest neighbors\n",
    "df_sorted = df.sort_values(by='Distance')\n",
    "\n",
    "print(df_sorted)"
   ]
  },
  {
   "cell_type": "code",
   "execution_count": 31,
   "metadata": {},
   "outputs": [
    {
     "name": "stdout",
     "output_type": "stream",
     "text": [
      "4.589133333333334\n"
     ]
    }
   ],
   "source": [
    "# Select the 3 nearest neighbors\n",
    "knn_3 = df_sorted.head(3)\n",
    "\n",
    "predicted_cpi = knn_3['CPI'].mean()\n",
    "\n",
    "print(predicted_cpi)"
   ]
  },
  {
   "cell_type": "code",
   "execution_count": 32,
   "metadata": {},
   "outputs": [
    {
     "name": "stdout",
     "output_type": "stream",
     "text": [
      "        Country  Life Expectancy  Top-10 Income  Infant Mortality  \\\n",
      "4     Argentina            75.77          32.30              13.3   \n",
      "5         China            74.87          29.98              13.7   \n",
      "8           USA            78.51          29.85               6.3   \n",
      "3         Egypt            70.48          26.58              19.6   \n",
      "10           UK            80.09          28.49               4.4   \n",
      "6        Brazil            73.12          42.93              14.5   \n",
      "15  New Zealand            80.67          27.81               4.9   \n",
      "9       Ireland            80.15          27.23               3.5   \n",
      "7        Israel            81.30          28.80               3.6   \n",
      "12       Canada            80.99          24.79               4.9   \n",
      "13    Australia            82.09          25.40               4.2   \n",
      "11      Germany            80.24          22.07               3.5   \n",
      "14       Sweden            81.43          22.18               2.4   \n",
      "0   Afghanistan            59.61          23.21              74.3   \n",
      "1         Haiti            45.00          47.67              73.1   \n",
      "2       Nigeria            51.30          38.23              82.6   \n",
      "\n",
      "    Military Spending  School Years     CPI   Distance    Weight  Weighted CPI  \n",
      "4                0.76          10.1  2.9961   9.757510  0.010503      0.031469  \n",
      "5                1.95           6.4  3.6356  10.727483  0.008690      0.031592  \n",
      "8                4.72          13.7  7.1357  11.704422  0.007300      0.052088  \n",
      "3                1.86           5.3  2.8622  13.716767  0.005315      0.015212  \n",
      "10               2.59          13.0  7.7751  14.095581  0.005033      0.039133  \n",
      "6                1.43           7.2  3.7741  14.680126  0.004640      0.017513  \n",
      "15               1.13          12.3  9.4627  14.803952  0.004563      0.043178  \n",
      "9                0.60          11.5  7.5360  15.221902  0.004316      0.032524  \n",
      "7                6.77          12.5  5.8069  15.651415  0.004082      0.023705  \n",
      "12               1.42          14.2  8.6725  16.122391  0.003847      0.033365  \n",
      "13               1.86          11.5  8.8442  16.984093  0.003467      0.030660  \n",
      "11               1.31          12.0  8.0461  17.355982  0.003320      0.026711  \n",
      "14               1.27          12.8  9.2985  18.587525  0.002894      0.026913  \n",
      "0                4.44           0.4  1.5171  66.535448  0.000226      0.000343  \n",
      "1                0.09           3.4  1.7999  69.667014  0.000206      0.000371  \n",
      "2                1.07           4.1  2.4493  75.268087  0.000177      0.000432  \n"
     ]
    }
   ],
   "source": [
    "import warnings\n",
    "warnings.filterwarnings('ignore')\n",
    "\n",
    "knn_16 = df_sorted.head(16)\n",
    "\n",
    "# Calculate the weights as inverse distance squared\n",
    "knn_16['Weight'] = 1 / (knn_16['Distance']**2)\n",
    "\n",
    "# Calculate the weighted CPI (weight * CPI)\n",
    "knn_16['Weighted CPI'] = knn_16['Weight'] * knn_16['CPI']\n",
    "\n",
    "print(knn_16)\n"
   ]
  },
  {
   "cell_type": "code",
   "execution_count": 33,
   "metadata": {},
   "outputs": [
    {
     "name": "stdout",
     "output_type": "stream",
     "text": [
      "5.908707536841121\n"
     ]
    }
   ],
   "source": [
    "predicted_cpi = knn_16['Weighted CPI'].sum() / knn_16['Weight'].sum()\n",
    "\n",
    "print(predicted_cpi)"
   ]
  },
  {
   "cell_type": "code",
   "execution_count": 34,
   "metadata": {},
   "outputs": [
    {
     "name": "stdout",
     "output_type": "stream",
     "text": [
      "Normalized Russia's Features DataFrame:\n",
      "   Life Expectancy  Top-10 Income  Infant Mortality  Military Spending  \\\n",
      "0         0.609868       0.375391          0.094763           0.565868   \n",
      "\n",
      "   School Years  \n",
      "0      0.905797  \n"
     ]
    }
   ],
   "source": [
    "# Create a DataFrame for Russia's features\n",
    "df_russia_features = pd.DataFrame(russia_features)\n",
    "\n",
    "columns_to_normalize = ['Life Expectancy', 'Top-10 Income', 'Infant Mortality', 'Military Spending', 'School Years']\n",
    "df_russia_features_normalized = df_russia_features.copy()\n",
    "\n",
    "# Normalize \n",
    "for column in columns_to_normalize:\n",
    "    min_value = df[column].min() \n",
    "    max_value = df[column].max()  \n",
    "    df_russia_features_normalized[column] = (df_russia_features[column] - min_value) / (max_value - min_value)\n",
    "\n",
    "# Display the normalized Russia features\n",
    "print(\"Normalized Russia's Features DataFrame:\")\n",
    "print(df_russia_features_normalized)"
   ]
  },
  {
   "cell_type": "code",
   "execution_count": 35,
   "metadata": {},
   "outputs": [
    {
     "name": "stdout",
     "output_type": "stream",
     "text": [
      "        Country  Distance\n",
      "8           USA  0.336151\n",
      "10           UK  0.412564\n",
      "4     Argentina  0.555415\n",
      "13    Australia  0.564308\n",
      "15  New Zealand  0.566419\n",
      "7        Israel  0.586832\n",
      "5         China  0.590944\n",
      "12       Canada  0.591451\n",
      "9       Ireland  0.633115\n",
      "11      Germany  0.643724\n",
      "14       Sweden  0.660963\n",
      "3         Egypt  0.673647\n",
      "6        Brazil  0.722692\n",
      "0   Afghanistan  1.275403\n",
      "2       Nigeria  1.288744\n",
      "1         Haiti  1.474860\n"
     ]
    }
   ],
   "source": [
    "# Calculate Euclidean distance for each country in the normalized DataFrame\n",
    "df_normalized['Distance'] = np.sqrt(\n",
    "    (df_normalized['Life Expectancy'] - df_russia_features_normalized['Life Expectancy'].values[0])**2 +\n",
    "    (df_normalized['Top-10 Income'] - df_russia_features_normalized['Top-10 Income'].values[0])**2 +\n",
    "    (df_normalized['Infant Mortality'] - df_russia_features_normalized['Infant Mortality'].values[0])**2 +\n",
    "    (df_normalized['Military Spending'] - df_russia_features_normalized['Military Spending'].values[0])**2 +\n",
    "    (df_normalized['School Years'] - df_russia_features_normalized['School Years'].values[0])**2\n",
    ")\n",
    "\n",
    "df_sorted_by_distance = df_normalized.sort_values(by='Distance')\n",
    "\n",
    "print(df_sorted_by_distance[['Country', 'Distance']])"
   ]
  },
  {
   "cell_type": "code",
   "execution_count": 36,
   "metadata": {},
   "outputs": [],
   "source": [
    "# Calculate weights using inverse distance squared\n",
    "df_normalized['Weight'] = 1 / (df_normalized['Distance']**2)\n",
    "\n",
    "# Sort by distance and select the 16 nearest neighbors\n",
    "df_sorted_by_distance = df_normalized.sort_values(by='Distance')\n",
    "nearest_neighbors_3 = df_sorted_by_distance.head(3)\n",
    "\n",
    "# Calculate weighted CPI for the 16 nearest neighbors\n",
    "weighted_cpi_3 = (nearest_neighbors_3['CPI']).sum()\n",
    "\n",
    "predicted_cpi_3 = weighted_cpi_3 / 3"
   ]
  },
  {
   "cell_type": "code",
   "execution_count": 37,
   "metadata": {},
   "outputs": [
    {
     "name": "stdout",
     "output_type": "stream",
     "text": [
      "5.968966666666667\n"
     ]
    }
   ],
   "source": [
    "print(predicted_cpi_3)"
   ]
  },
  {
   "cell_type": "code",
   "execution_count": 38,
   "metadata": {},
   "outputs": [],
   "source": [
    "# Calculate weights using inverse distance squared\n",
    "df_normalized['Weight'] = 1 / (df_normalized['Distance']**2)\n",
    "\n",
    "# Sort by distance and select the 16 nearest neighbors\n",
    "df_sorted_by_distance = df_normalized.sort_values(by='Distance')\n",
    "nearest_neighbors = df_sorted_by_distance.head(16)\n",
    "\n",
    "# Calculate weighted CPI for the 16 nearest neighbors\n",
    "weighted_cpi = (nearest_neighbors['CPI'] * nearest_neighbors['Weight']).sum()\n",
    "total_weight = nearest_neighbors['Weight'].sum()\n",
    "\n",
    "predicted_cpi = weighted_cpi / total_weight"
   ]
  },
  {
   "cell_type": "code",
   "execution_count": 39,
   "metadata": {},
   "outputs": [
    {
     "name": "stdout",
     "output_type": "stream",
     "text": [
      "6.634661198770241\n"
     ]
    }
   ],
   "source": [
    "print(predicted_cpi)"
   ]
  }
 ],
 "metadata": {
  "kernelspec": {
   "display_name": "base",
   "language": "python",
   "name": "python3"
  },
  "language_info": {
   "codemirror_mode": {
    "name": "ipython",
    "version": 3
   },
   "file_extension": ".py",
   "mimetype": "text/x-python",
   "name": "python",
   "nbconvert_exporter": "python",
   "pygments_lexer": "ipython3",
   "version": "3.11.5"
  }
 },
 "nbformat": 4,
 "nbformat_minor": 2
}
